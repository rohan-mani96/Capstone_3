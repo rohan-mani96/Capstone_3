{
 "cells": [
  {
   "cell_type": "markdown",
   "metadata": {},
   "source": [
    "## 4.1 Contents<a id='4.1_Contents'></a>\n",
    "* [4 Pre-Processing and Training Data](#4_Pre-Processing_and_Training_Data)\n",
    "  * [4.1 Contents](#4.1_Contents)\n",
    "  * [4.2 Introduction](#4.2_Introduction)\n",
    "  * [4.3 Imports](#4.3_Imports)\n",
    "  * [4.4 Load Data](#4.4_Load_Data)\n",
    "  * [4.5 Handle Price Outliers](#4.5_Handle_Price_Outliers)\n",
    "  * [4.6 Train/Test Split](#4.6_Train/Test_Split)\n",
    "  * [4.7 Linear Regression Model](#4.7_Linear_Regression_Model)\n",
    "  * [4.8 Random Forest Model](#4.8_Random_Forest_Model)\n",
    "      * [4.8.1 Feature Selection](#4.8.1_Feature_Selection)\n",
    "  * [4.9 Gradient Boosting Model](#4.9_Gradient_Boosting_Model)\n",
    "  * [4.10 XGBoost Model](#4.10_XGBoost_Model)\n",
    "    * [4.10.1 Hyperparameter search using GridSearchCV](#4.10.1_Hyperparameter_search_using_GridSearchCV)\n",
    "  * [4.11 Final Model Selection](#4.11_Final_Model_Selection)\n",
    "  * [4.12 Save Best Model and Train/Test_Files](#4.12_Save_Best_Model_and_Train/Test_Files)"
   ]
  },
  {
   "cell_type": "markdown",
   "metadata": {},
   "source": [
    "# 4.2 Introduction<a id='4.2_Introduction'></a>"
   ]
  },
  {
   "cell_type": "markdown",
   "metadata": {},
   "source": [
    "# 4.3 Imports<a id='4.3_Imports'></a>"
   ]
  },
  {
   "cell_type": "code",
   "execution_count": 1,
   "metadata": {},
   "outputs": [],
   "source": [
    "import pandas as pd\n",
    "import seaborn as sns\n",
    "import matplotlib.pyplot as plt\n",
    "from sklearn import preprocessing \n",
    "from sklearn.model_selection import train_test_split\n",
    "import numpy as np\n",
    "import statsmodels.api as sm # Has various stats models for modeling data.\n",
    "from statsmodels.graphics.api import abline_plot # Has graphical features.\n",
    "from sklearn.metrics import mean_squared_error, r2_score #Calculates relevant metrics for performance.\n",
    "from sklearn.model_selection import train_test_split # Can use to split the data into 2.\n",
    "from sklearn import linear_model, preprocessing # For creating linear regression models\n",
    "from sklearn.metrics import r2_score, mean_squared_error, mean_absolute_error\n",
    "from sklearn.pipeline import make_pipeline\n",
    "from sklearn.feature_selection import SelectKBest, f_regression\n",
    "from sklearn.linear_model import LinearRegression\n",
    "from sklearn.ensemble import RandomForestRegressor\n",
    "from sklearn.model_selection import train_test_split, cross_validate, GridSearchCV, learning_curve\n",
    "import pickle\n",
    "from xgboost import XGBRegressor"
   ]
  },
  {
   "cell_type": "markdown",
   "metadata": {},
   "source": [
    "# 4.4 Load Data<a id='4.4_Load_Data'></a>"
   ]
  },
  {
   "cell_type": "code",
   "execution_count": 2,
   "metadata": {},
   "outputs": [],
   "source": [
    "house_attr_df=pd.read_csv('../data/processed/houseattribute_df.csv')"
   ]
  },
  {
   "cell_type": "code",
   "execution_count": 6,
   "metadata": {},
   "outputs": [
    {
     "name": "stdout",
     "output_type": "stream",
     "text": [
      "<class 'pandas.core.frame.DataFrame'>\n",
      "RangeIndex: 1084909 entries, 0 to 1084908\n",
      "Data columns (total 12 columns):\n",
      " #   Column          Non-Null Count    Dtype  \n",
      "---  ------          --------------    -----  \n",
      " 0   brokered_by     1084909 non-null  float64\n",
      " 1   status          1084909 non-null  object \n",
      " 2   price           1084909 non-null  float64\n",
      " 3   bed             1084909 non-null  float64\n",
      " 4   bath            1084909 non-null  float64\n",
      " 5   acre_lot        1084909 non-null  float64\n",
      " 6   street          1084909 non-null  float64\n",
      " 7   city            1084909 non-null  object \n",
      " 8   state           1084909 non-null  object \n",
      " 9   zip_code        1084909 non-null  float64\n",
      " 10  house_size      1084909 non-null  float64\n",
      " 11  prev_sold_date  1084909 non-null  object \n",
      "dtypes: float64(8), object(4)\n",
      "memory usage: 99.3+ MB\n"
     ]
    }
   ],
   "source": [
    "house_attr_df.info()"
   ]
  },
  {
   "cell_type": "code",
   "execution_count": 7,
   "metadata": {},
   "outputs": [
    {
     "data": {
      "text/html": [
       "<div>\n",
       "<style scoped>\n",
       "    .dataframe tbody tr th:only-of-type {\n",
       "        vertical-align: middle;\n",
       "    }\n",
       "\n",
       "    .dataframe tbody tr th {\n",
       "        vertical-align: top;\n",
       "    }\n",
       "\n",
       "    .dataframe thead th {\n",
       "        text-align: right;\n",
       "    }\n",
       "</style>\n",
       "<table border=\"1\" class=\"dataframe\">\n",
       "  <thead>\n",
       "    <tr style=\"text-align: right;\">\n",
       "      <th></th>\n",
       "      <th>brokered_by</th>\n",
       "      <th>status</th>\n",
       "      <th>price</th>\n",
       "      <th>bed</th>\n",
       "      <th>bath</th>\n",
       "      <th>acre_lot</th>\n",
       "      <th>street</th>\n",
       "      <th>city</th>\n",
       "      <th>state</th>\n",
       "      <th>zip_code</th>\n",
       "      <th>house_size</th>\n",
       "      <th>prev_sold_date</th>\n",
       "    </tr>\n",
       "  </thead>\n",
       "  <tbody>\n",
       "    <tr>\n",
       "      <th>0</th>\n",
       "      <td>92147.0</td>\n",
       "      <td>for_sale</td>\n",
       "      <td>110000.0</td>\n",
       "      <td>7.0</td>\n",
       "      <td>3.0</td>\n",
       "      <td>0.09</td>\n",
       "      <td>1842706.0</td>\n",
       "      <td>Dorado</td>\n",
       "      <td>Puerto Rico</td>\n",
       "      <td>949.0</td>\n",
       "      <td>1192.0</td>\n",
       "      <td>2019-06-28</td>\n",
       "    </tr>\n",
       "    <tr>\n",
       "      <th>1</th>\n",
       "      <td>94933.0</td>\n",
       "      <td>for_sale</td>\n",
       "      <td>950000.0</td>\n",
       "      <td>5.0</td>\n",
       "      <td>4.0</td>\n",
       "      <td>0.99</td>\n",
       "      <td>1260473.0</td>\n",
       "      <td>Saint Thomas</td>\n",
       "      <td>Virgin Islands</td>\n",
       "      <td>802.0</td>\n",
       "      <td>5000.0</td>\n",
       "      <td>2013-10-11</td>\n",
       "    </tr>\n",
       "    <tr>\n",
       "      <th>2</th>\n",
       "      <td>103341.0</td>\n",
       "      <td>for_sale</td>\n",
       "      <td>6899000.0</td>\n",
       "      <td>4.0</td>\n",
       "      <td>6.0</td>\n",
       "      <td>0.83</td>\n",
       "      <td>17467.0</td>\n",
       "      <td>Saint Thomas</td>\n",
       "      <td>Virgin Islands</td>\n",
       "      <td>802.0</td>\n",
       "      <td>4600.0</td>\n",
       "      <td>2018-04-05</td>\n",
       "    </tr>\n",
       "    <tr>\n",
       "      <th>3</th>\n",
       "      <td>21163.0</td>\n",
       "      <td>for_sale</td>\n",
       "      <td>525000.0</td>\n",
       "      <td>3.0</td>\n",
       "      <td>3.0</td>\n",
       "      <td>0.45</td>\n",
       "      <td>1813270.0</td>\n",
       "      <td>Agawam</td>\n",
       "      <td>Massachusetts</td>\n",
       "      <td>1001.0</td>\n",
       "      <td>2314.0</td>\n",
       "      <td>2014-06-25</td>\n",
       "    </tr>\n",
       "    <tr>\n",
       "      <th>4</th>\n",
       "      <td>67455.0</td>\n",
       "      <td>for_sale</td>\n",
       "      <td>289900.0</td>\n",
       "      <td>3.0</td>\n",
       "      <td>2.0</td>\n",
       "      <td>0.36</td>\n",
       "      <td>1698080.0</td>\n",
       "      <td>Agawam</td>\n",
       "      <td>Massachusetts</td>\n",
       "      <td>1001.0</td>\n",
       "      <td>1276.0</td>\n",
       "      <td>2012-10-12</td>\n",
       "    </tr>\n",
       "  </tbody>\n",
       "</table>\n",
       "</div>"
      ],
      "text/plain": [
       "   brokered_by    status      price  bed  bath  acre_lot     street  \\\n",
       "0      92147.0  for_sale   110000.0  7.0   3.0      0.09  1842706.0   \n",
       "1      94933.0  for_sale   950000.0  5.0   4.0      0.99  1260473.0   \n",
       "2     103341.0  for_sale  6899000.0  4.0   6.0      0.83    17467.0   \n",
       "3      21163.0  for_sale   525000.0  3.0   3.0      0.45  1813270.0   \n",
       "4      67455.0  for_sale   289900.0  3.0   2.0      0.36  1698080.0   \n",
       "\n",
       "           city           state  zip_code  house_size prev_sold_date  \n",
       "0        Dorado     Puerto Rico     949.0      1192.0     2019-06-28  \n",
       "1  Saint Thomas  Virgin Islands     802.0      5000.0     2013-10-11  \n",
       "2  Saint Thomas  Virgin Islands     802.0      4600.0     2018-04-05  \n",
       "3        Agawam   Massachusetts    1001.0      2314.0     2014-06-25  \n",
       "4        Agawam   Massachusetts    1001.0      1276.0     2012-10-12  "
      ]
     },
     "execution_count": 7,
     "metadata": {},
     "output_type": "execute_result"
    }
   ],
   "source": [
    "house_attr_df.head()"
   ]
  },
  {
   "cell_type": "code",
   "execution_count": 8,
   "metadata": {},
   "outputs": [
    {
     "data": {
      "text/plain": [
       "(240000.0, 600000.0)"
      ]
     },
     "execution_count": 8,
     "metadata": {},
     "output_type": "execute_result"
    }
   ],
   "source": [
    "house_attr_df['price'].quantile(.25),house_attr_df['price'].quantile(.75)"
   ]
  },
  {
   "cell_type": "code",
   "execution_count": 10,
   "metadata": {},
   "outputs": [
    {
     "data": {
      "text/plain": [
       "(1084909, 12)"
      ]
     },
     "execution_count": 10,
     "metadata": {},
     "output_type": "execute_result"
    }
   ],
   "source": [
    "house_attr_df.shape"
   ]
  },
  {
   "cell_type": "code",
   "execution_count": 11,
   "metadata": {},
   "outputs": [
    {
     "data": {
      "text/plain": [
       "(array([1.084868e+06, 3.400000e+01, 4.000000e+00, 2.000000e+00,\n",
       "        0.000000e+00, 0.000000e+00, 0.000000e+00, 0.000000e+00,\n",
       "        0.000000e+00, 1.000000e+00]),\n",
       " array([1.00000000e+00, 5.15000009e+07, 1.03000001e+08, 1.54500001e+08,\n",
       "        2.06000001e+08, 2.57500000e+08, 3.09000000e+08, 3.60500000e+08,\n",
       "        4.12000000e+08, 4.63500000e+08, 5.15000000e+08]),\n",
       " <BarContainer object of 10 artists>)"
      ]
     },
     "execution_count": 11,
     "metadata": {},
     "output_type": "execute_result"
    },
    {
     "data": {
      "image/png": "[encoded data removed]",
      "text/plain": [
       "<Figure size 432x288 with 1 Axes>"
      ]
     },
     "metadata": {},
     "output_type": "display_data"
    }
   ],
   "source": [
    "plt.hist(house_attr_df['price'])"
   ]
  },
  {
   "cell_type": "code",
   "execution_count": 13,
   "metadata": {},
   "outputs": [
    {
     "data": {
      "text/plain": [
       "(array([ 160.,  209.,  356.,  600.,  456., 1142.,  959., 1793., 1340.,\n",
       "        2567.]),\n",
       " array([1.00000e+00, 5.00080e+03, 1.00006e+04, 1.50004e+04, 2.00002e+04,\n",
       "        2.50000e+04, 2.99998e+04, 3.49996e+04, 3.99994e+04, 4.49992e+04,\n",
       "        4.99990e+04]),\n",
       " <BarContainer object of 10 artists>)"
      ]
     },
     "execution_count": 13,
     "metadata": {},
     "output_type": "execute_result"
    },
    {
     "data": {
      "image/png": "[encoded data removed]",
      "text/plain": [
       "<Figure size 432x288 with 1 Axes>"
      ]
     },
     "metadata": {},
     "output_type": "display_data"
    }
   ],
   "source": [
    "plt.hist(house_attr_df[house_attr_df['price']< 50000]['price'])"
   ]
  },
  {
   "cell_type": "code",
   "execution_count": 14,
   "metadata": {},
   "outputs": [
    {
     "data": {
      "text/plain": [
       "(array([5.286e+03, 3.000e+01, 3.000e+00, 2.000e+00, 0.000e+00, 0.000e+00,\n",
       "        0.000e+00, 0.000e+00, 0.000e+00, 1.000e+00]),\n",
       " array([5.025000e+06, 5.602250e+07, 1.070200e+08, 1.580175e+08,\n",
       "        2.090150e+08, 2.600125e+08, 3.110100e+08, 3.620075e+08,\n",
       "        4.130050e+08, 4.640025e+08, 5.150000e+08]),\n",
       " <BarContainer object of 10 artists>)"
      ]
     },
     "execution_count": 14,
     "metadata": {},
     "output_type": "execute_result"
    },
    {
     "data": {
      "image/png": "[encoded data removed]",
      "text/plain": [
       "<Figure size 432x288 with 1 Axes>"
      ]
     },
     "metadata": {},
     "output_type": "display_data"
    }
   ],
   "source": [
    "plt.hist(house_attr_df[house_attr_df['price']>5000000]['price'])"
   ]
  },
  {
   "cell_type": "code",
   "execution_count": 15,
   "metadata": {},
   "outputs": [
    {
     "data": {
      "text/html": [
       "<div>\n",
       "<style scoped>\n",
       "    .dataframe tbody tr th:only-of-type {\n",
       "        vertical-align: middle;\n",
       "    }\n",
       "\n",
       "    .dataframe tbody tr th {\n",
       "        vertical-align: top;\n",
       "    }\n",
       "\n",
       "    .dataframe thead th {\n",
       "        text-align: right;\n",
       "    }\n",
       "</style>\n",
       "<table border=\"1\" class=\"dataframe\">\n",
       "  <thead>\n",
       "    <tr style=\"text-align: right;\">\n",
       "      <th></th>\n",
       "      <th>brokered_by</th>\n",
       "      <th>status</th>\n",
       "      <th>price</th>\n",
       "      <th>bed</th>\n",
       "      <th>bath</th>\n",
       "      <th>acre_lot</th>\n",
       "      <th>street</th>\n",
       "      <th>city</th>\n",
       "      <th>state</th>\n",
       "      <th>zip_code</th>\n",
       "      <th>house_size</th>\n",
       "      <th>prev_sold_date</th>\n",
       "    </tr>\n",
       "  </thead>\n",
       "  <tbody>\n",
       "    <tr>\n",
       "      <th>201</th>\n",
       "      <td>98460.0</td>\n",
       "      <td>for_sale</td>\n",
       "      <td>40000.0</td>\n",
       "      <td>2.0</td>\n",
       "      <td>1.0</td>\n",
       "      <td>0.29</td>\n",
       "      <td>1314092.0</td>\n",
       "      <td>Winchester</td>\n",
       "      <td>Connecticut</td>\n",
       "      <td>6098.0</td>\n",
       "      <td>1450.0</td>\n",
       "      <td>2015-03-13</td>\n",
       "    </tr>\n",
       "    <tr>\n",
       "      <th>301</th>\n",
       "      <td>37775.0</td>\n",
       "      <td>for_sale</td>\n",
       "      <td>24900.0</td>\n",
       "      <td>7.0</td>\n",
       "      <td>3.0</td>\n",
       "      <td>0.24</td>\n",
       "      <td>174347.0</td>\n",
       "      <td>Springfield</td>\n",
       "      <td>Massachusetts</td>\n",
       "      <td>1105.0</td>\n",
       "      <td>3727.0</td>\n",
       "      <td>2006-12-28</td>\n",
       "    </tr>\n",
       "    <tr>\n",
       "      <th>680</th>\n",
       "      <td>99968.0</td>\n",
       "      <td>for_sale</td>\n",
       "      <td>49999.0</td>\n",
       "      <td>4.0</td>\n",
       "      <td>2.0</td>\n",
       "      <td>0.10</td>\n",
       "      <td>662612.0</td>\n",
       "      <td>North Adams</td>\n",
       "      <td>Massachusetts</td>\n",
       "      <td>1247.0</td>\n",
       "      <td>1822.0</td>\n",
       "      <td>2000-06-12</td>\n",
       "    </tr>\n",
       "    <tr>\n",
       "      <th>1796</th>\n",
       "      <td>10211.0</td>\n",
       "      <td>for_sale</td>\n",
       "      <td>40000.0</td>\n",
       "      <td>2.0</td>\n",
       "      <td>1.0</td>\n",
       "      <td>0.20</td>\n",
       "      <td>1202236.0</td>\n",
       "      <td>Nassau</td>\n",
       "      <td>New York</td>\n",
       "      <td>12123.0</td>\n",
       "      <td>690.0</td>\n",
       "      <td>2005-12-01</td>\n",
       "    </tr>\n",
       "    <tr>\n",
       "      <th>1842</th>\n",
       "      <td>38575.0</td>\n",
       "      <td>for_sale</td>\n",
       "      <td>49900.0</td>\n",
       "      <td>2.0</td>\n",
       "      <td>1.0</td>\n",
       "      <td>0.13</td>\n",
       "      <td>179494.0</td>\n",
       "      <td>Schodack Landing</td>\n",
       "      <td>New York</td>\n",
       "      <td>12123.0</td>\n",
       "      <td>1200.0</td>\n",
       "      <td>1993-06-01</td>\n",
       "    </tr>\n",
       "    <tr>\n",
       "      <th>...</th>\n",
       "      <td>...</td>\n",
       "      <td>...</td>\n",
       "      <td>...</td>\n",
       "      <td>...</td>\n",
       "      <td>...</td>\n",
       "      <td>...</td>\n",
       "      <td>...</td>\n",
       "      <td>...</td>\n",
       "      <td>...</td>\n",
       "      <td>...</td>\n",
       "      <td>...</td>\n",
       "      <td>...</td>\n",
       "    </tr>\n",
       "    <tr>\n",
       "      <th>1070087</th>\n",
       "      <td>79449.0</td>\n",
       "      <td>sold</td>\n",
       "      <td>19000.0</td>\n",
       "      <td>1.0</td>\n",
       "      <td>1.0</td>\n",
       "      <td>0.12</td>\n",
       "      <td>924638.0</td>\n",
       "      <td>Sumas</td>\n",
       "      <td>Washington</td>\n",
       "      <td>98295.0</td>\n",
       "      <td>280.0</td>\n",
       "      <td>2022-02-25</td>\n",
       "    </tr>\n",
       "    <tr>\n",
       "      <th>1078635</th>\n",
       "      <td>53569.0</td>\n",
       "      <td>sold</td>\n",
       "      <td>515.0</td>\n",
       "      <td>3.0</td>\n",
       "      <td>2.0</td>\n",
       "      <td>5.09</td>\n",
       "      <td>14594.0</td>\n",
       "      <td>Raymond</td>\n",
       "      <td>Washington</td>\n",
       "      <td>98577.0</td>\n",
       "      <td>3060.0</td>\n",
       "      <td>2022-04-11</td>\n",
       "    </tr>\n",
       "    <tr>\n",
       "      <th>1079347</th>\n",
       "      <td>83639.0</td>\n",
       "      <td>sold</td>\n",
       "      <td>49900.0</td>\n",
       "      <td>3.0</td>\n",
       "      <td>2.0</td>\n",
       "      <td>0.11</td>\n",
       "      <td>1408540.0</td>\n",
       "      <td>Longview</td>\n",
       "      <td>Washington</td>\n",
       "      <td>98632.0</td>\n",
       "      <td>924.0</td>\n",
       "      <td>2022-02-03</td>\n",
       "    </tr>\n",
       "    <tr>\n",
       "      <th>1080764</th>\n",
       "      <td>10515.0</td>\n",
       "      <td>sold</td>\n",
       "      <td>1695.0</td>\n",
       "      <td>3.0</td>\n",
       "      <td>4.0</td>\n",
       "      <td>1.00</td>\n",
       "      <td>247722.0</td>\n",
       "      <td>Leavenworth</td>\n",
       "      <td>Washington</td>\n",
       "      <td>98826.0</td>\n",
       "      <td>3910.0</td>\n",
       "      <td>2022-01-25</td>\n",
       "    </tr>\n",
       "    <tr>\n",
       "      <th>1083677</th>\n",
       "      <td>108383.0</td>\n",
       "      <td>sold</td>\n",
       "      <td>49900.0</td>\n",
       "      <td>2.0</td>\n",
       "      <td>1.0</td>\n",
       "      <td>1.28</td>\n",
       "      <td>910860.0</td>\n",
       "      <td>Republic</td>\n",
       "      <td>Washington</td>\n",
       "      <td>99166.0</td>\n",
       "      <td>896.0</td>\n",
       "      <td>2022-02-10</td>\n",
       "    </tr>\n",
       "  </tbody>\n",
       "</table>\n",
       "<p>9582 rows × 12 columns</p>\n",
       "</div>"
      ],
      "text/plain": [
       "         brokered_by    status    price  bed  bath  acre_lot     street  \\\n",
       "201          98460.0  for_sale  40000.0  2.0   1.0      0.29  1314092.0   \n",
       "301          37775.0  for_sale  24900.0  7.0   3.0      0.24   174347.0   \n",
       "680          99968.0  for_sale  49999.0  4.0   2.0      0.10   662612.0   \n",
       "1796         10211.0  for_sale  40000.0  2.0   1.0      0.20  1202236.0   \n",
       "1842         38575.0  for_sale  49900.0  2.0   1.0      0.13   179494.0   \n",
       "...              ...       ...      ...  ...   ...       ...        ...   \n",
       "1070087      79449.0      sold  19000.0  1.0   1.0      0.12   924638.0   \n",
       "1078635      53569.0      sold    515.0  3.0   2.0      5.09    14594.0   \n",
       "1079347      83639.0      sold  49900.0  3.0   2.0      0.11  1408540.0   \n",
       "1080764      10515.0      sold   1695.0  3.0   4.0      1.00   247722.0   \n",
       "1083677     108383.0      sold  49900.0  2.0   1.0      1.28   910860.0   \n",
       "\n",
       "                     city          state  zip_code  house_size prev_sold_date  \n",
       "201            Winchester    Connecticut    6098.0      1450.0     2015-03-13  \n",
       "301           Springfield  Massachusetts    1105.0      3727.0     2006-12-28  \n",
       "680           North Adams  Massachusetts    1247.0      1822.0     2000-06-12  \n",
       "1796               Nassau       New York   12123.0       690.0     2005-12-01  \n",
       "1842     Schodack Landing       New York   12123.0      1200.0     1993-06-01  \n",
       "...                   ...            ...       ...         ...            ...  \n",
       "1070087             Sumas     Washington   98295.0       280.0     2022-02-25  \n",
       "1078635           Raymond     Washington   98577.0      3060.0     2022-04-11  \n",
       "1079347          Longview     Washington   98632.0       924.0     2022-02-03  \n",
       "1080764       Leavenworth     Washington   98826.0      3910.0     2022-01-25  \n",
       "1083677          Republic     Washington   99166.0       896.0     2022-02-10  \n",
       "\n",
       "[9582 rows x 12 columns]"
      ]
     },
     "execution_count": 15,
     "metadata": {},
     "output_type": "execute_result"
    }
   ],
   "source": [
    "house_attr_df[house_attr_df['price']< 50000]"
   ]
  },
  {
   "cell_type": "code",
   "execution_count": 16,
   "metadata": {},
   "outputs": [
    {
     "data": {
      "text/plain": [
       "0.008832077160388568"
      ]
     },
     "execution_count": 16,
     "metadata": {},
     "output_type": "execute_result"
    }
   ],
   "source": [
    "9582/1084909"
   ]
  },
  {
   "cell_type": "code",
   "execution_count": 17,
   "metadata": {},
   "outputs": [
    {
     "data": {
      "text/html": [
       "<div>\n",
       "<style scoped>\n",
       "    .dataframe tbody tr th:only-of-type {\n",
       "        vertical-align: middle;\n",
       "    }\n",
       "\n",
       "    .dataframe tbody tr th {\n",
       "        vertical-align: top;\n",
       "    }\n",
       "\n",
       "    .dataframe thead th {\n",
       "        text-align: right;\n",
       "    }\n",
       "</style>\n",
       "<table border=\"1\" class=\"dataframe\">\n",
       "  <thead>\n",
       "    <tr style=\"text-align: right;\">\n",
       "      <th></th>\n",
       "      <th>brokered_by</th>\n",
       "      <th>status</th>\n",
       "      <th>price</th>\n",
       "      <th>bed</th>\n",
       "      <th>bath</th>\n",
       "      <th>acre_lot</th>\n",
       "      <th>street</th>\n",
       "      <th>city</th>\n",
       "      <th>state</th>\n",
       "      <th>zip_code</th>\n",
       "      <th>house_size</th>\n",
       "      <th>prev_sold_date</th>\n",
       "    </tr>\n",
       "  </thead>\n",
       "  <tbody>\n",
       "    <tr>\n",
       "      <th>2</th>\n",
       "      <td>103341.0</td>\n",
       "      <td>for_sale</td>\n",
       "      <td>6899000.0</td>\n",
       "      <td>4.0</td>\n",
       "      <td>6.0</td>\n",
       "      <td>0.83</td>\n",
       "      <td>17467.0</td>\n",
       "      <td>Saint Thomas</td>\n",
       "      <td>Virgin Islands</td>\n",
       "      <td>802.0</td>\n",
       "      <td>4600.0</td>\n",
       "      <td>2018-04-05</td>\n",
       "    </tr>\n",
       "    <tr>\n",
       "      <th>467</th>\n",
       "      <td>32014.0</td>\n",
       "      <td>for_sale</td>\n",
       "      <td>15500000.0</td>\n",
       "      <td>3.0</td>\n",
       "      <td>5.0</td>\n",
       "      <td>298.00</td>\n",
       "      <td>672203.0</td>\n",
       "      <td>New Marlborough</td>\n",
       "      <td>Massachusetts</td>\n",
       "      <td>1259.0</td>\n",
       "      <td>4273.0</td>\n",
       "      <td>2011-01-28</td>\n",
       "    </tr>\n",
       "    <tr>\n",
       "      <th>538</th>\n",
       "      <td>108004.0</td>\n",
       "      <td>for_sale</td>\n",
       "      <td>5995000.0</td>\n",
       "      <td>4.0</td>\n",
       "      <td>5.0</td>\n",
       "      <td>115.00</td>\n",
       "      <td>1021512.0</td>\n",
       "      <td>Avon</td>\n",
       "      <td>Connecticut</td>\n",
       "      <td>6001.0</td>\n",
       "      <td>6964.0</td>\n",
       "      <td>1987-12-28</td>\n",
       "    </tr>\n",
       "    <tr>\n",
       "      <th>1308</th>\n",
       "      <td>80750.0</td>\n",
       "      <td>for_sale</td>\n",
       "      <td>60000000.0</td>\n",
       "      <td>9.0</td>\n",
       "      <td>10.0</td>\n",
       "      <td>400.00</td>\n",
       "      <td>1246311.0</td>\n",
       "      <td>Woodstock</td>\n",
       "      <td>Connecticut</td>\n",
       "      <td>6281.0</td>\n",
       "      <td>18777.0</td>\n",
       "      <td>2003-08-28</td>\n",
       "    </tr>\n",
       "    <tr>\n",
       "      <th>1811</th>\n",
       "      <td>10858.0</td>\n",
       "      <td>for_sale</td>\n",
       "      <td>12500000.0</td>\n",
       "      <td>33.0</td>\n",
       "      <td>15.0</td>\n",
       "      <td>89.00</td>\n",
       "      <td>958133.0</td>\n",
       "      <td>Lenox</td>\n",
       "      <td>Massachusetts</td>\n",
       "      <td>1240.0</td>\n",
       "      <td>20821.0</td>\n",
       "      <td>1999-05-14</td>\n",
       "    </tr>\n",
       "    <tr>\n",
       "      <th>...</th>\n",
       "      <td>...</td>\n",
       "      <td>...</td>\n",
       "      <td>...</td>\n",
       "      <td>...</td>\n",
       "      <td>...</td>\n",
       "      <td>...</td>\n",
       "      <td>...</td>\n",
       "      <td>...</td>\n",
       "      <td>...</td>\n",
       "      <td>...</td>\n",
       "      <td>...</td>\n",
       "      <td>...</td>\n",
       "    </tr>\n",
       "    <tr>\n",
       "      <th>1069699</th>\n",
       "      <td>71365.0</td>\n",
       "      <td>sold</td>\n",
       "      <td>7900000.0</td>\n",
       "      <td>4.0</td>\n",
       "      <td>4.0</td>\n",
       "      <td>25.26</td>\n",
       "      <td>932782.0</td>\n",
       "      <td>Orcas Island</td>\n",
       "      <td>Washington</td>\n",
       "      <td>98279.0</td>\n",
       "      <td>5008.0</td>\n",
       "      <td>2021-11-22</td>\n",
       "    </tr>\n",
       "    <tr>\n",
       "      <th>1073137</th>\n",
       "      <td>108218.0</td>\n",
       "      <td>sold</td>\n",
       "      <td>9880000.0</td>\n",
       "      <td>6.0</td>\n",
       "      <td>6.0</td>\n",
       "      <td>0.56</td>\n",
       "      <td>1657608.0</td>\n",
       "      <td>Medina</td>\n",
       "      <td>Washington</td>\n",
       "      <td>98039.0</td>\n",
       "      <td>6470.0</td>\n",
       "      <td>2022-03-14</td>\n",
       "    </tr>\n",
       "    <tr>\n",
       "      <th>1074510</th>\n",
       "      <td>48710.0</td>\n",
       "      <td>sold</td>\n",
       "      <td>5600000.0</td>\n",
       "      <td>3.0</td>\n",
       "      <td>4.0</td>\n",
       "      <td>0.28</td>\n",
       "      <td>1718705.0</td>\n",
       "      <td>Gig Harbor</td>\n",
       "      <td>Washington</td>\n",
       "      <td>98332.0</td>\n",
       "      <td>5490.0</td>\n",
       "      <td>2022-05-06</td>\n",
       "    </tr>\n",
       "    <tr>\n",
       "      <th>1081039</th>\n",
       "      <td>108288.0</td>\n",
       "      <td>sold</td>\n",
       "      <td>12500000.0</td>\n",
       "      <td>5.0</td>\n",
       "      <td>3.0</td>\n",
       "      <td>957.26</td>\n",
       "      <td>967662.0</td>\n",
       "      <td>Ellensburg</td>\n",
       "      <td>Washington</td>\n",
       "      <td>98926.0</td>\n",
       "      <td>2849.0</td>\n",
       "      <td>2022-04-08</td>\n",
       "    </tr>\n",
       "    <tr>\n",
       "      <th>1083203</th>\n",
       "      <td>100877.0</td>\n",
       "      <td>sold</td>\n",
       "      <td>6500000.0</td>\n",
       "      <td>5.0</td>\n",
       "      <td>6.0</td>\n",
       "      <td>61.50</td>\n",
       "      <td>1455191.0</td>\n",
       "      <td>Spokane</td>\n",
       "      <td>Washington</td>\n",
       "      <td>99208.0</td>\n",
       "      <td>9090.0</td>\n",
       "      <td>2021-12-17</td>\n",
       "    </tr>\n",
       "  </tbody>\n",
       "</table>\n",
       "<p>5322 rows × 12 columns</p>\n",
       "</div>"
      ],
      "text/plain": [
       "         brokered_by    status       price   bed  bath  acre_lot     street  \\\n",
       "2           103341.0  for_sale   6899000.0   4.0   6.0      0.83    17467.0   \n",
       "467          32014.0  for_sale  15500000.0   3.0   5.0    298.00   672203.0   \n",
       "538         108004.0  for_sale   5995000.0   4.0   5.0    115.00  1021512.0   \n",
       "1308         80750.0  for_sale  60000000.0   9.0  10.0    400.00  1246311.0   \n",
       "1811         10858.0  for_sale  12500000.0  33.0  15.0     89.00   958133.0   \n",
       "...              ...       ...         ...   ...   ...       ...        ...   \n",
       "1069699      71365.0      sold   7900000.0   4.0   4.0     25.26   932782.0   \n",
       "1073137     108218.0      sold   9880000.0   6.0   6.0      0.56  1657608.0   \n",
       "1074510      48710.0      sold   5600000.0   3.0   4.0      0.28  1718705.0   \n",
       "1081039     108288.0      sold  12500000.0   5.0   3.0    957.26   967662.0   \n",
       "1083203     100877.0      sold   6500000.0   5.0   6.0     61.50  1455191.0   \n",
       "\n",
       "                    city           state  zip_code  house_size prev_sold_date  \n",
       "2           Saint Thomas  Virgin Islands     802.0      4600.0     2018-04-05  \n",
       "467      New Marlborough   Massachusetts    1259.0      4273.0     2011-01-28  \n",
       "538                 Avon     Connecticut    6001.0      6964.0     1987-12-28  \n",
       "1308           Woodstock     Connecticut    6281.0     18777.0     2003-08-28  \n",
       "1811               Lenox   Massachusetts    1240.0     20821.0     1999-05-14  \n",
       "...                  ...             ...       ...         ...            ...  \n",
       "1069699     Orcas Island      Washington   98279.0      5008.0     2021-11-22  \n",
       "1073137           Medina      Washington   98039.0      6470.0     2022-03-14  \n",
       "1074510       Gig Harbor      Washington   98332.0      5490.0     2022-05-06  \n",
       "1081039       Ellensburg      Washington   98926.0      2849.0     2022-04-08  \n",
       "1083203          Spokane      Washington   99208.0      9090.0     2021-12-17  \n",
       "\n",
       "[5322 rows x 12 columns]"
      ]
     },
     "execution_count": 17,
     "metadata": {},
     "output_type": "execute_result"
    }
   ],
   "source": [
    "house_attr_df[house_attr_df['price']>5000000]"
   ]
  },
  {
   "cell_type": "code",
   "execution_count": 18,
   "metadata": {},
   "outputs": [
    {
     "data": {
      "text/plain": [
       "0.004905480551825084"
      ]
     },
     "execution_count": 18,
     "metadata": {},
     "output_type": "execute_result"
    }
   ],
   "source": [
    "5322/1084909"
   ]
  },
  {
   "cell_type": "code",
   "execution_count": 20,
   "metadata": {},
   "outputs": [
    {
     "data": {
      "text/plain": [
       "(array([5.286e+03, 3.000e+01, 3.000e+00, 2.000e+00, 0.000e+00, 0.000e+00,\n",
       "        0.000e+00, 0.000e+00, 0.000e+00, 1.000e+00]),\n",
       " array([5.025000e+06, 5.602250e+07, 1.070200e+08, 1.580175e+08,\n",
       "        2.090150e+08, 2.600125e+08, 3.110100e+08, 3.620075e+08,\n",
       "        4.130050e+08, 4.640025e+08, 5.150000e+08]),\n",
       " <BarContainer object of 10 artists>)"
      ]
     },
     "execution_count": 20,
     "metadata": {},
     "output_type": "execute_result"
    },
    {
     "data": {
      "image/png": "[encoded data removed]",
      "text/plain": [
       "<Figure size 432x288 with 1 Axes>"
      ]
     },
     "metadata": {},
     "output_type": "display_data"
    }
   ],
   "source": [
    "plt.hist(house_attr_df[house_attr_df['price']>5000000]['price'])"
   ]
  },
  {
   "cell_type": "markdown",
   "metadata": {},
   "source": [
    "# 4.5 Handle Price Outliers<a id='4.5_Handle_Price_Outliers'></a>"
   ]
  },
  {
   "cell_type": "code",
   "execution_count": 3,
   "metadata": {},
   "outputs": [],
   "source": [
    "house_attr_df=house_attr_df[house_attr_df['price'].between(50001,4999999,inclusive=True)]"
   ]
  },
  {
   "cell_type": "code",
   "execution_count": 24,
   "metadata": {},
   "outputs": [
    {
     "data": {
      "text/plain": [
       "(1069194, 12)"
      ]
     },
     "execution_count": 24,
     "metadata": {},
     "output_type": "execute_result"
    }
   ],
   "source": [
    "house_attr_df.shape"
   ]
  },
  {
   "cell_type": "code",
   "execution_count": 25,
   "metadata": {},
   "outputs": [
    {
     "data": {
      "text/plain": [
       "Index(['brokered_by', 'status', 'price', 'bed', 'bath', 'acre_lot', 'street',\n",
       "       'city', 'state', 'zip_code', 'house_size', 'prev_sold_date'],\n",
       "      dtype='object')"
      ]
     },
     "execution_count": 25,
     "metadata": {},
     "output_type": "execute_result"
    }
   ],
   "source": [
    "house_attr_df.columns"
   ]
  },
  {
   "cell_type": "code",
   "execution_count": 4,
   "metadata": {},
   "outputs": [],
   "source": [
    "features=house_attr_df.drop(columns=['price','prev_sold_date','status'],axis=1).columns\n",
    "X=house_attr_df[features]\n",
    "y=house_attr_df['price']"
   ]
  },
  {
   "cell_type": "code",
   "execution_count": 60,
   "metadata": {},
   "outputs": [
    {
     "data": {
      "text/plain": [
       "Index(['brokered_by', 'bed', 'bath', 'acre_lot', 'street', 'city', 'state',\n",
       "       'zip_code', 'house_size'],\n",
       "      dtype='object')"
      ]
     },
     "execution_count": 60,
     "metadata": {},
     "output_type": "execute_result"
    }
   ],
   "source": [
    "X.columns"
   ]
  },
  {
   "cell_type": "code",
   "execution_count": 61,
   "metadata": {},
   "outputs": [
    {
     "data": {
      "text/plain": [
       "0    110000.0\n",
       "1    950000.0\n",
       "3    525000.0\n",
       "4    289900.0\n",
       "5    384900.0\n",
       "Name: price, dtype: float64"
      ]
     },
     "execution_count": 61,
     "metadata": {},
     "output_type": "execute_result"
    }
   ],
   "source": [
    "y.head()"
   ]
  },
  {
   "cell_type": "markdown",
   "metadata": {},
   "source": [
    "# 4.6 Train/Test Split<a id='4.6_Train/Test_Split'></a>"
   ]
  },
  {
   "cell_type": "code",
   "execution_count": 5,
   "metadata": {},
   "outputs": [],
   "source": [
    "X_train, X_test, y_train, y_test = train_test_split(X, y, test_size=.3, random_state=5000)"
   ]
  },
  {
   "cell_type": "code",
   "execution_count": 28,
   "metadata": {},
   "outputs": [
    {
     "data": {
      "text/plain": [
       "Index(['brokered_by', 'bed', 'bath', 'acre_lot', 'street', 'city', 'state',\n",
       "       'zip_code', 'house_size'],\n",
       "      dtype='object')"
      ]
     },
     "execution_count": 28,
     "metadata": {},
     "output_type": "execute_result"
    }
   ],
   "source": [
    "X_train.columns"
   ]
  },
  {
   "cell_type": "markdown",
   "metadata": {},
   "source": [
    "Model prediction interpretation."
   ]
  },
  {
   "cell_type": "code",
   "execution_count": 64,
   "metadata": {},
   "outputs": [],
   "source": [
    "# y_train.loc[X_train[(X_train['state']=='Iowa') & (X_train['zip_code']==52235)].index].values.mean()"
   ]
  },
  {
   "cell_type": "code",
   "execution_count": 65,
   "metadata": {},
   "outputs": [],
   "source": [
    "# X_train[(X_train['state']=='Georgia') & (X_train['zip_code']==30342)]"
   ]
  },
  {
   "cell_type": "code",
   "execution_count": 66,
   "metadata": {},
   "outputs": [],
   "source": [
    "# X_train[(X_train['state']=='Iowa') & (X_train['zip_code']==52235)]"
   ]
  },
  {
   "cell_type": "code",
   "execution_count": 6,
   "metadata": {},
   "outputs": [
    {
     "name": "stderr",
     "output_type": "stream",
     "text": [
      "C:\\Users\\rohan\\Anaconda3\\lib\\site-packages\\ipykernel_launcher.py:4: SettingWithCopyWarning: \n",
      "A value is trying to be set on a copy of a slice from a DataFrame.\n",
      "Try using .loc[row_indexer,col_indexer] = value instead\n",
      "\n",
      "See the caveats in the documentation: https://pandas.pydata.org/pandas-docs/stable/user_guide/indexing.html#returning-a-view-versus-a-copy\n",
      "  after removing the cwd from sys.path.\n",
      "C:\\Users\\rohan\\Anaconda3\\lib\\site-packages\\ipykernel_launcher.py:5: SettingWithCopyWarning: \n",
      "A value is trying to be set on a copy of a slice from a DataFrame.\n",
      "Try using .loc[row_indexer,col_indexer] = value instead\n",
      "\n",
      "See the caveats in the documentation: https://pandas.pydata.org/pandas-docs/stable/user_guide/indexing.html#returning-a-view-versus-a-copy\n",
      "  \"\"\"\n"
     ]
    }
   ],
   "source": [
    "labelencoder=preprocessing.LabelEncoder()\n",
    "ordencoder=preprocessing.OrdinalEncoder(handle_unknown='use_encoded_value',unknown_value=np.nan)\n",
    "colstoencode=['city']\n",
    "X_train['city']=ordencoder.fit_transform(X_train[colstoencode])\n",
    "X_train['state']=labelencoder.fit_transform(X_train['state'])"
   ]
  },
  {
   "cell_type": "code",
   "execution_count": 7,
   "metadata": {},
   "outputs": [],
   "source": [
    "minmaxscaler=preprocessing.MinMaxScaler()\n",
    "X_train=pd.DataFrame(minmaxscaler.fit_transform(X_train),columns=X_train.columns)"
   ]
  },
  {
   "cell_type": "code",
   "execution_count": 31,
   "metadata": {},
   "outputs": [
    {
     "data": {
      "text/html": [
       "<div>\n",
       "<style scoped>\n",
       "    .dataframe tbody tr th:only-of-type {\n",
       "        vertical-align: middle;\n",
       "    }\n",
       "\n",
       "    .dataframe tbody tr th {\n",
       "        vertical-align: top;\n",
       "    }\n",
       "\n",
       "    .dataframe thead th {\n",
       "        text-align: right;\n",
       "    }\n",
       "</style>\n",
       "<table border=\"1\" class=\"dataframe\">\n",
       "  <thead>\n",
       "    <tr style=\"text-align: right;\">\n",
       "      <th></th>\n",
       "      <th>brokered_by</th>\n",
       "      <th>bed</th>\n",
       "      <th>bath</th>\n",
       "      <th>acre_lot</th>\n",
       "      <th>street</th>\n",
       "      <th>city</th>\n",
       "      <th>state</th>\n",
       "      <th>zip_code</th>\n",
       "      <th>house_size</th>\n",
       "    </tr>\n",
       "  </thead>\n",
       "  <tbody>\n",
       "    <tr>\n",
       "      <th>0</th>\n",
       "      <td>0.843793</td>\n",
       "      <td>0.014218</td>\n",
       "      <td>0.014218</td>\n",
       "      <td>0.000004</td>\n",
       "      <td>0.851570</td>\n",
       "      <td>0.978850</td>\n",
       "      <td>0.634615</td>\n",
       "      <td>0.280063</td>\n",
       "      <td>0.001718</td>\n",
       "    </tr>\n",
       "    <tr>\n",
       "      <th>1</th>\n",
       "      <td>0.205290</td>\n",
       "      <td>0.014218</td>\n",
       "      <td>0.009479</td>\n",
       "      <td>0.000003</td>\n",
       "      <td>0.326377</td>\n",
       "      <td>0.851739</td>\n",
       "      <td>0.576923</td>\n",
       "      <td>0.073233</td>\n",
       "      <td>0.001271</td>\n",
       "    </tr>\n",
       "    <tr>\n",
       "      <th>2</th>\n",
       "      <td>0.061584</td>\n",
       "      <td>0.009479</td>\n",
       "      <td>0.004739</td>\n",
       "      <td>0.000376</td>\n",
       "      <td>0.752926</td>\n",
       "      <td>0.961462</td>\n",
       "      <td>0.480769</td>\n",
       "      <td>0.656331</td>\n",
       "      <td>0.001330</td>\n",
       "    </tr>\n",
       "    <tr>\n",
       "      <th>3</th>\n",
       "      <td>0.483303</td>\n",
       "      <td>0.004739</td>\n",
       "      <td>0.009479</td>\n",
       "      <td>0.000005</td>\n",
       "      <td>0.075233</td>\n",
       "      <td>0.624414</td>\n",
       "      <td>0.615385</td>\n",
       "      <td>0.120323</td>\n",
       "      <td>0.000672</td>\n",
       "    </tr>\n",
       "    <tr>\n",
       "      <th>4</th>\n",
       "      <td>0.646865</td>\n",
       "      <td>0.014218</td>\n",
       "      <td>0.009479</td>\n",
       "      <td>0.000002</td>\n",
       "      <td>0.315950</td>\n",
       "      <td>0.707026</td>\n",
       "      <td>0.846154</td>\n",
       "      <td>0.749484</td>\n",
       "      <td>0.002034</td>\n",
       "    </tr>\n",
       "  </tbody>\n",
       "</table>\n",
       "</div>"
      ],
      "text/plain": [
       "   brokered_by       bed      bath  acre_lot    street      city     state  \\\n",
       "0     0.843793  0.014218  0.014218  0.000004  0.851570  0.978850  0.634615   \n",
       "1     0.205290  0.014218  0.009479  0.000003  0.326377  0.851739  0.576923   \n",
       "2     0.061584  0.009479  0.004739  0.000376  0.752926  0.961462  0.480769   \n",
       "3     0.483303  0.004739  0.009479  0.000005  0.075233  0.624414  0.615385   \n",
       "4     0.646865  0.014218  0.009479  0.000002  0.315950  0.707026  0.846154   \n",
       "\n",
       "   zip_code  house_size  \n",
       "0  0.280063    0.001718  \n",
       "1  0.073233    0.001271  \n",
       "2  0.656331    0.001330  \n",
       "3  0.120323    0.000672  \n",
       "4  0.749484    0.002034  "
      ]
     },
     "execution_count": 31,
     "metadata": {},
     "output_type": "execute_result"
    }
   ],
   "source": [
    "X_train.head()"
   ]
  },
  {
   "cell_type": "markdown",
   "metadata": {},
   "source": [
    "# 4.7 Linear Regression Model<a id='4.7_Linear_Regression_Model'></a>"
   ]
  },
  {
   "cell_type": "code",
   "execution_count": 32,
   "metadata": {},
   "outputs": [],
   "source": [
    "# Create the model: make a variable called rModel, and use it linear_model.LinearRegression appropriately\n",
    "rModel=linear_model.LinearRegression()"
   ]
  },
  {
   "cell_type": "code",
   "execution_count": 33,
   "metadata": {},
   "outputs": [
    {
     "data": {
      "text/plain": [
       "LinearRegression()"
      ]
     },
     "execution_count": 33,
     "metadata": {},
     "output_type": "execute_result"
    }
   ],
   "source": [
    "rModel.fit(X_train,y_train)"
   ]
  },
  {
   "cell_type": "code",
   "execution_count": 34,
   "metadata": {},
   "outputs": [
    {
     "data": {
      "text/plain": [
       "97729     683785.0\n",
       "509146    399000.0\n",
       "293271    339000.0\n",
       "516270    279000.0\n",
       "830864    586000.0\n",
       "            ...   \n",
       "617837    269990.0\n",
       "676323    310000.0\n",
       "972658    699000.0\n",
       "497632    564900.0\n",
       "192043    245000.0\n",
       "Name: price, Length: 748435, dtype: float64"
      ]
     },
     "execution_count": 34,
     "metadata": {},
     "output_type": "execute_result"
    }
   ],
   "source": [
    "y_train"
   ]
  },
  {
   "cell_type": "code",
   "execution_count": 35,
   "metadata": {},
   "outputs": [
    {
     "data": {
      "text/plain": [
       "array([713557.43265039, 467009.94234686, 483749.04189343, ...,\n",
       "       841585.20233595,  65916.88662983, 269264.00161476])"
      ]
     },
     "execution_count": 35,
     "metadata": {},
     "output_type": "execute_result"
    }
   ],
   "source": [
    "rModel.predict(X_train)"
   ]
  },
  {
   "cell_type": "code",
   "execution_count": 78,
   "metadata": {},
   "outputs": [
    {
     "name": "stdout",
     "output_type": "stream",
     "text": [
      "Help on LinearRegression in module sklearn.linear_model._base object:\n",
      "\n",
      "class LinearRegression(sklearn.base.MultiOutputMixin, sklearn.base.RegressorMixin, LinearModel)\n",
      " |  Ordinary least squares Linear Regression.\n",
      " |  \n",
      " |  LinearRegression fits a linear model with coefficients w = (w1, ..., wp)\n",
      " |  to minimize the residual sum of squares between the observed targets in\n",
      " |  the dataset, and the targets predicted by the linear approximation.\n",
      " |  \n",
      " |  Parameters\n",
      " |  ----------\n",
      " |  fit_intercept : bool, default=True\n",
      " |      Whether to calculate the intercept for this model. If set\n",
      " |      to False, no intercept will be used in calculations\n",
      " |      (i.e. data is expected to be centered).\n",
      " |  \n",
      " |  normalize : bool, default=False\n",
      " |      This parameter is ignored when ``fit_intercept`` is set to False.\n",
      " |      If True, the regressors X will be normalized before regression by\n",
      " |      subtracting the mean and dividing by the l2-norm.\n",
      " |      If you wish to standardize, please use\n",
      " |      :class:`~sklearn.preprocessing.StandardScaler` before calling ``fit``\n",
      " |      on an estimator with ``normalize=False``.\n",
      " |  \n",
      " |  copy_X : bool, default=True\n",
      " |      If True, X will be copied; else, it may be overwritten.\n",
      " |  \n",
      " |  n_jobs : int, default=None\n",
      " |      The number of jobs to use for the computation. This will only provide\n",
      " |      speedup for n_targets > 1 and sufficient large problems.\n",
      " |      ``None`` means 1 unless in a :obj:`joblib.parallel_backend` context.\n",
      " |      ``-1`` means using all processors. See :term:`Glossary <n_jobs>`\n",
      " |      for more details.\n",
      " |  \n",
      " |  positive : bool, default=False\n",
      " |      When set to ``True``, forces the coefficients to be positive. This\n",
      " |      option is only supported for dense arrays.\n",
      " |  \n",
      " |      .. versionadded:: 0.24\n",
      " |  \n",
      " |  Attributes\n",
      " |  ----------\n",
      " |  coef_ : array of shape (n_features, ) or (n_targets, n_features)\n",
      " |      Estimated coefficients for the linear regression problem.\n",
      " |      If multiple targets are passed during the fit (y 2D), this\n",
      " |      is a 2D array of shape (n_targets, n_features), while if only\n",
      " |      one target is passed, this is a 1D array of length n_features.\n",
      " |  \n",
      " |  rank_ : int\n",
      " |      Rank of matrix `X`. Only available when `X` is dense.\n",
      " |  \n",
      " |  singular_ : array of shape (min(X, y),)\n",
      " |      Singular values of `X`. Only available when `X` is dense.\n",
      " |  \n",
      " |  intercept_ : float or array of shape (n_targets,)\n",
      " |      Independent term in the linear model. Set to 0.0 if\n",
      " |      `fit_intercept = False`.\n",
      " |  \n",
      " |  See Also\n",
      " |  --------\n",
      " |  Ridge : Ridge regression addresses some of the\n",
      " |      problems of Ordinary Least Squares by imposing a penalty on the\n",
      " |      size of the coefficients with l2 regularization.\n",
      " |  Lasso : The Lasso is a linear model that estimates\n",
      " |      sparse coefficients with l1 regularization.\n",
      " |  ElasticNet : Elastic-Net is a linear regression\n",
      " |      model trained with both l1 and l2 -norm regularization of the\n",
      " |      coefficients.\n",
      " |  \n",
      " |  Notes\n",
      " |  -----\n",
      " |  From the implementation point of view, this is just plain Ordinary\n",
      " |  Least Squares (scipy.linalg.lstsq) or Non Negative Least Squares\n",
      " |  (scipy.optimize.nnls) wrapped as a predictor object.\n",
      " |  \n",
      " |  Examples\n",
      " |  --------\n",
      " |  >>> import numpy as np\n",
      " |  >>> from sklearn.linear_model import LinearRegression\n",
      " |  >>> X = np.array([[1, 1], [1, 2], [2, 2], [2, 3]])\n",
      " |  >>> # y = 1 * x_0 + 2 * x_1 + 3\n",
      " |  >>> y = np.dot(X, np.array([1, 2])) + 3\n",
      " |  >>> reg = LinearRegression().fit(X, y)\n",
      " |  >>> reg.score(X, y)\n",
      " |  1.0\n",
      " |  >>> reg.coef_\n",
      " |  array([1., 2.])\n",
      " |  >>> reg.intercept_\n",
      " |  3.0...\n",
      " |  >>> reg.predict(np.array([[3, 5]]))\n",
      " |  array([16.])\n",
      " |  \n",
      " |  Method resolution order:\n",
      " |      LinearRegression\n",
      " |      sklearn.base.MultiOutputMixin\n",
      " |      sklearn.base.RegressorMixin\n",
      " |      LinearModel\n",
      " |      sklearn.base.BaseEstimator\n",
      " |      builtins.object\n",
      " |  \n",
      " |  Methods defined here:\n",
      " |  \n",
      " |  __init__(self, *, fit_intercept=True, normalize=False, copy_X=True, n_jobs=None, positive=False)\n",
      " |      Initialize self.  See help(type(self)) for accurate signature.\n",
      " |  \n",
      " |  fit(self, X, y, sample_weight=None)\n",
      " |      Fit linear model.\n",
      " |      \n",
      " |      Parameters\n",
      " |      ----------\n",
      " |      X : {array-like, sparse matrix} of shape (n_samples, n_features)\n",
      " |          Training data\n",
      " |      \n",
      " |      y : array-like of shape (n_samples,) or (n_samples, n_targets)\n",
      " |          Target values. Will be cast to X's dtype if necessary\n",
      " |      \n",
      " |      sample_weight : array-like of shape (n_samples,), default=None\n",
      " |          Individual weights for each sample\n",
      " |      \n",
      " |          .. versionadded:: 0.17\n",
      " |             parameter *sample_weight* support to LinearRegression.\n",
      " |      \n",
      " |      Returns\n",
      " |      -------\n",
      " |      self : returns an instance of self.\n",
      " |  \n",
      " |  ----------------------------------------------------------------------\n",
      " |  Data and other attributes defined here:\n",
      " |  \n",
      " |  __abstractmethods__ = frozenset()\n",
      " |  \n",
      " |  ----------------------------------------------------------------------\n",
      " |  Data descriptors inherited from sklearn.base.MultiOutputMixin:\n",
      " |  \n",
      " |  __dict__\n",
      " |      dictionary for instance variables (if defined)\n",
      " |  \n",
      " |  __weakref__\n",
      " |      list of weak references to the object (if defined)\n",
      " |  \n",
      " |  ----------------------------------------------------------------------\n",
      " |  Methods inherited from sklearn.base.RegressorMixin:\n",
      " |  \n",
      " |  score(self, X, y, sample_weight=None)\n",
      " |      Return the coefficient of determination :math:`R^2` of the\n",
      " |      prediction.\n",
      " |      \n",
      " |      The coefficient :math:`R^2` is defined as :math:`(1 - \\frac{u}{v})`,\n",
      " |      where :math:`u` is the residual sum of squares ``((y_true - y_pred)\n",
      " |      ** 2).sum()`` and :math:`v` is the total sum of squares ``((y_true -\n",
      " |      y_true.mean()) ** 2).sum()``. The best possible score is 1.0 and it\n",
      " |      can be negative (because the model can be arbitrarily worse). A\n",
      " |      constant model that always predicts the expected value of `y`,\n",
      " |      disregarding the input features, would get a :math:`R^2` score of\n",
      " |      0.0.\n",
      " |      \n",
      " |      Parameters\n",
      " |      ----------\n",
      " |      X : array-like of shape (n_samples, n_features)\n",
      " |          Test samples. For some estimators this may be a precomputed\n",
      " |          kernel matrix or a list of generic objects instead with shape\n",
      " |          ``(n_samples, n_samples_fitted)``, where ``n_samples_fitted``\n",
      " |          is the number of samples used in the fitting for the estimator.\n",
      " |      \n",
      " |      y : array-like of shape (n_samples,) or (n_samples, n_outputs)\n",
      " |          True values for `X`.\n",
      " |      \n",
      " |      sample_weight : array-like of shape (n_samples,), default=None\n",
      " |          Sample weights.\n",
      " |      \n",
      " |      Returns\n",
      " |      -------\n",
      " |      score : float\n",
      " |          :math:`R^2` of ``self.predict(X)`` wrt. `y`.\n",
      " |      \n",
      " |      Notes\n",
      " |      -----\n",
      " |      The :math:`R^2` score used when calling ``score`` on a regressor uses\n",
      " |      ``multioutput='uniform_average'`` from version 0.23 to keep consistent\n",
      " |      with default value of :func:`~sklearn.metrics.r2_score`.\n",
      " |      This influences the ``score`` method of all the multioutput\n",
      " |      regressors (except for\n",
      " |      :class:`~sklearn.multioutput.MultiOutputRegressor`).\n",
      " |  \n",
      " |  ----------------------------------------------------------------------\n",
      " |  Methods inherited from LinearModel:\n",
      " |  \n",
      " |  predict(self, X)\n",
      " |      Predict using the linear model.\n",
      " |      \n",
      " |      Parameters\n",
      " |      ----------\n",
      " |      X : array-like or sparse matrix, shape (n_samples, n_features)\n",
      " |          Samples.\n",
      " |      \n",
      " |      Returns\n",
      " |      -------\n",
      " |      C : array, shape (n_samples,)\n",
      " |          Returns predicted values.\n",
      " |  \n",
      " |  ----------------------------------------------------------------------\n",
      " |  Methods inherited from sklearn.base.BaseEstimator:\n",
      " |  \n",
      " |  __getstate__(self)\n",
      " |  \n",
      " |  __repr__(self, N_CHAR_MAX=700)\n",
      " |      Return repr(self).\n",
      " |  \n",
      " |  __setstate__(self, state)\n",
      " |  \n",
      " |  get_params(self, deep=True)\n",
      " |      Get parameters for this estimator.\n",
      " |      \n",
      " |      Parameters\n",
      " |      ----------\n",
      " |      deep : bool, default=True\n",
      " |          If True, will return the parameters for this estimator and\n",
      " |          contained subobjects that are estimators.\n",
      " |      \n",
      " |      Returns\n",
      " |      -------\n",
      " |      params : dict\n",
      " |          Parameter names mapped to their values.\n",
      " |  \n",
      " |  set_params(self, **params)\n",
      " |      Set the parameters of this estimator.\n",
      " |      \n",
      " |      The method works on simple estimators as well as on nested objects\n",
      " |      (such as :class:`~sklearn.pipeline.Pipeline`). The latter have\n",
      " |      parameters of the form ``<component>__<parameter>`` so that it's\n",
      " |      possible to update each component of a nested object.\n",
      " |      \n",
      " |      Parameters\n",
      " |      ----------\n",
      " |      **params : dict\n",
      " |          Estimator parameters.\n",
      " |      \n",
      " |      Returns\n",
      " |      -------\n",
      " |      self : estimator instance\n",
      " |          Estimator instance.\n",
      "\n"
     ]
    }
   ],
   "source": [
    "help(rModel)"
   ]
  },
  {
   "cell_type": "code",
   "execution_count": 36,
   "metadata": {},
   "outputs": [
    {
     "data": {
      "text/plain": [
       "array([-3.44190618e+04, -3.15969580e+05,  4.14249083e+07,  2.45271692e+04,\n",
       "        5.52252329e+03,  4.22245780e+04, -2.46453646e+05,  2.97976888e+05,\n",
       "        3.69328686e+07])"
      ]
     },
     "execution_count": 36,
     "metadata": {},
     "output_type": "execute_result"
    }
   ],
   "source": [
    "rModel.coef_"
   ]
  },
  {
   "cell_type": "code",
   "execution_count": 37,
   "metadata": {},
   "outputs": [],
   "source": [
    "def mse(obs,pred):\n",
    "    e=np.sum((obs-pred)**2)\n",
    "    return e"
   ]
  },
  {
   "cell_type": "code",
   "execution_count": 38,
   "metadata": {},
   "outputs": [],
   "source": [
    "def rmse(obs,pred):\n",
    "    e=np.sum((obs-pred)**2)/len(obs)\n",
    "    e=np.sqrt(e)\n",
    "    return e"
   ]
  },
  {
   "cell_type": "code",
   "execution_count": 39,
   "metadata": {},
   "outputs": [
    {
     "name": "stdout",
     "output_type": "stream",
     "text": [
      "train rmse linear regression:428988.48188893654\n",
      "train r2_score linear regression:0.30443102719258663\n",
      "train MAE linear regression:250076.27446830837\n"
     ]
    }
   ],
   "source": [
    "pred=rModel.predict(X_train)\n",
    "# Put the predictions & actual values into a dataframe\n",
    "obs=y_train.values\n",
    "d={'Predicted':pred,'Actual':obs}\n",
    "model_df=pd.DataFrame.from_dict(d)\n",
    "model_df.head()\n",
    "print('train rmse linear regression:'+str(rmse(model_df['Actual'],model_df['Predicted'])))\n",
    "print('train r2_score linear regression:'+str(r2_score(y_train.values,pred)))\n",
    "print('train MAE linear regression:'+str(mean_absolute_error(y_train.values,pred)))"
   ]
  },
  {
   "cell_type": "markdown",
   "metadata": {},
   "source": [
    "# 4.8 Random Forest Model<a id='4.8_Random_Forest_Model'></a>"
   ]
  },
  {
   "cell_type": "code",
   "execution_count": 8,
   "metadata": {},
   "outputs": [],
   "source": [
    "pipe = make_pipeline( \n",
    "    SelectKBest(f_regression, k=9),\n",
    "    RandomForestRegressor(n_estimators=125,max_depth=5)\n",
    ")"
   ]
  },
  {
   "cell_type": "markdown",
   "metadata": {},
   "source": [
    "## 4.8.1 Feature Selection<a id='4.8.1_Feature_Selection'></a>"
   ]
  },
  {
   "cell_type": "code",
   "execution_count": 9,
   "metadata": {},
   "outputs": [],
   "source": [
    "k = [k+1 for k in range(len(X_train.columns))]\n",
    "grid_params = {'selectkbest__k': k}"
   ]
  },
  {
   "cell_type": "code",
   "execution_count": 10,
   "metadata": {},
   "outputs": [
    {
     "data": {
      "text/plain": [
       "GridSearchCV(cv=5,\n",
       "             estimator=Pipeline(steps=[('selectkbest',\n",
       "                                        SelectKBest(k=9,\n",
       "                                                    score_func=<function f_regression at 0x000001EF6BE2B0D0>)),\n",
       "                                       ('randomforestregressor',\n",
       "                                        RandomForestRegressor(max_depth=5,\n",
       "                                                              n_estimators=125))]),\n",
       "             n_jobs=-1,\n",
       "             param_grid={'selectkbest__k': [1, 2, 3, 4, 5, 6, 7, 8, 9]})"
      ]
     },
     "execution_count": 10,
     "metadata": {},
     "output_type": "execute_result"
    }
   ],
   "source": [
    "rf_grid_cv = GridSearchCV(pipe, param_grid=grid_params, cv=5, n_jobs=-1)\n",
    "rf_grid_cv.fit(X_train, y_train)"
   ]
  },
  {
   "cell_type": "code",
   "execution_count": 11,
   "metadata": {},
   "outputs": [],
   "source": [
    "score_mean = rf_grid_cv.cv_results_['mean_test_score']\n",
    "score_std = rf_grid_cv.cv_results_['std_test_score']\n",
    "cv_k = [k for k in rf_grid_cv.cv_results_['param_selectkbest__k']]"
   ]
  },
  {
   "cell_type": "code",
   "execution_count": 12,
   "metadata": {
    "scrolled": true
   },
   "outputs": [
    {
     "data": {
      "text/plain": [
       "{'selectkbest__k': 8}"
      ]
     },
     "execution_count": 12,
     "metadata": {},
     "output_type": "execute_result"
    }
   ],
   "source": [
    "rf_grid_cv.best_params_"
   ]
  },
  {
   "cell_type": "code",
   "execution_count": 13,
   "metadata": {},
   "outputs": [
    {
     "data": {
      "image/png": "[encoded data removed]",
      "text/plain": [
       "<Figure size 720x360 with 1 Axes>"
      ]
     },
     "metadata": {},
     "output_type": "display_data"
    }
   ],
   "source": [
    "best_k = rf_grid_cv.best_params_['selectkbest__k']\n",
    "plt.subplots(figsize=(10, 5))\n",
    "plt.errorbar(cv_k, score_mean, yerr=score_std)\n",
    "plt.axvline(x=best_k, c='r', ls='--', alpha=.5)\n",
    "plt.xlabel('k')\n",
    "plt.ylabel('CV score (r-squared)')\n",
    "plt.title('Pipeline mean CV score (error bars +/- 1sd)');"
   ]
  },
  {
   "cell_type": "code",
   "execution_count": 14,
   "metadata": {},
   "outputs": [],
   "source": [
    "selected = rf_grid_cv.best_estimator_.named_steps.selectkbest.get_support()"
   ]
  },
  {
   "cell_type": "code",
   "execution_count": 15,
   "metadata": {},
   "outputs": [
    {
     "data": {
      "text/plain": [
       "bath           0.401169\n",
       "zip_code       0.335412\n",
       "house_size     0.228280\n",
       "state          0.032241\n",
       "bed            0.002886\n",
       "city           0.000012\n",
       "street         0.000000\n",
       "brokered_by    0.000000\n",
       "dtype: float64"
      ]
     },
     "execution_count": 15,
     "metadata": {},
     "output_type": "execute_result"
    }
   ],
   "source": [
    "coefs = rf_grid_cv.best_estimator_.named_steps.randomforestregressor.feature_importances_\n",
    "features = X_train.columns[selected]\n",
    "pd.Series(coefs, index=features).sort_values(ascending=False)"
   ]
  },
  {
   "cell_type": "code",
   "execution_count": 16,
   "metadata": {},
   "outputs": [
    {
     "name": "stdout",
     "output_type": "stream",
     "text": [
      "[0.00000000e+00 2.88613892e-03 4.01168504e-01 0.00000000e+00\n",
      " 1.21849952e-05 3.22412143e-02 3.35411777e-01 2.28280180e-01]\n"
     ]
    },
    {
     "data": {
      "image/png": "[encoded data removed]",
      "text/plain": [
       "<Figure size 720x360 with 1 Axes>"
      ]
     },
     "metadata": {},
     "output_type": "display_data"
    }
   ],
   "source": [
    "plt.subplots(figsize=(10, 5))\n",
    "imps = rf_grid_cv.best_estimator_.named_steps.randomforestregressor.feature_importances_\n",
    "print(imps)\n",
    "rf_feat_imps = pd.Series(imps, index=features).sort_values(ascending=False)\n",
    "rf_feat_imps.plot(kind='bar')\n",
    "plt.xlabel('features')\n",
    "plt.ylabel('importance')\n",
    "plt.title('Best random forest regressor feature importances');"
   ]
  },
  {
   "cell_type": "code",
   "execution_count": 17,
   "metadata": {},
   "outputs": [],
   "source": [
    "rf_neg_mae = cross_validate(rf_grid_cv.best_estimator_, X_train, y_train, \n",
    "                            scoring='neg_mean_absolute_error', cv=5, n_jobs=-1)"
   ]
  },
  {
   "cell_type": "code",
   "execution_count": 18,
   "metadata": {},
   "outputs": [
    {
     "name": "stdout",
     "output_type": "stream",
     "text": [
      "train mae mean and standard deviation random forest:200652.3016682384,984.4428259782868\n"
     ]
    }
   ],
   "source": [
    "rf_mae_mean = np.mean(-1 * rf_neg_mae['test_score'])\n",
    "rf_mae_std = np.std(-1 * rf_neg_mae['test_score'])\n",
    "print('train mae mean and standard deviation random forest:'+str(rf_mae_mean)+','+str(rf_mae_std))"
   ]
  },
  {
   "cell_type": "code",
   "execution_count": 55,
   "metadata": {},
   "outputs": [
    {
     "data": {
      "text/plain": [
       "RandomForestRegressor(max_depth=5, n_estimators=125)"
      ]
     },
     "execution_count": 55,
     "metadata": {},
     "output_type": "execute_result"
    }
   ],
   "source": [
    "rf=RandomForestRegressor(n_estimators=125,max_depth=5)\n",
    "rf.fit(X_train[['bath','zip_code','house_size','state','bed','city']],y_train)"
   ]
  },
  {
   "cell_type": "code",
   "execution_count": 56,
   "metadata": {},
   "outputs": [
    {
     "data": {
      "text/plain": [
       "0.03271037122443787"
      ]
     },
     "execution_count": 56,
     "metadata": {},
     "output_type": "execute_result"
    }
   ],
   "source": [
    "pred=rf.predict(X_train[['bath','zip_code','house_size','state','bed','city']])\n",
    "r2_score(pred,y_train)"
   ]
  },
  {
   "cell_type": "code",
   "execution_count": 57,
   "metadata": {},
   "outputs": [
    {
     "data": {
      "text/plain": [
       "355520.25525846356"
      ]
     },
     "execution_count": 57,
     "metadata": {},
     "output_type": "execute_result"
    }
   ],
   "source": [
    "mean_squared_error(y_train, pred, squared=False)"
   ]
  },
  {
   "cell_type": "code",
   "execution_count": 58,
   "metadata": {},
   "outputs": [
    {
     "data": {
      "text/plain": [
       "200812.3243525022"
      ]
     },
     "execution_count": 58,
     "metadata": {},
     "output_type": "execute_result"
    }
   ],
   "source": [
    "mean_absolute_error(pred,y_train)"
   ]
  },
  {
   "cell_type": "code",
   "execution_count": 59,
   "metadata": {},
   "outputs": [],
   "source": [
    "X_train=X_train[['bath','zip_code','house_size','state','bed','city']]\n",
    "X_test=X_test[['bath','zip_code','house_size','state','bed','city']]"
   ]
  },
  {
   "cell_type": "markdown",
   "metadata": {},
   "source": [
    "# 4.9 Gradient Boosting Model<a id='4.9_Gradient_Boosting_Model'></a>"
   ]
  },
  {
   "cell_type": "code",
   "execution_count": 60,
   "metadata": {},
   "outputs": [
    {
     "data": {
      "text/plain": [
       "GradientBoostingRegressor(max_depth=5, n_estimators=150)"
      ]
     },
     "execution_count": 60,
     "metadata": {},
     "output_type": "execute_result"
    }
   ],
   "source": [
    "from sklearn.ensemble import GradientBoostingRegressor\n",
    "sklearn_gbm = GradientBoostingRegressor(\n",
    "    n_estimators=150, \n",
    "    learning_rate=0.1, \n",
    "    max_depth=5\n",
    ")\n",
    "sklearn_gbm.fit(X_train, y_train)"
   ]
  },
  {
   "cell_type": "code",
   "execution_count": 61,
   "metadata": {},
   "outputs": [
    {
     "name": "stdout",
     "output_type": "stream",
     "text": [
      "train MSE gb:272683.05242138595\n",
      "train r2_score gb:0.5607489649228619\n",
      "train MAE gb:143216.3557416054\n"
     ]
    }
   ],
   "source": [
    "print('train MSE gb:'+str(mean_squared_error(y_train, sklearn_gbm.predict(X_train), squared=False)))\n",
    "y_pred=sklearn_gbm.predict(X_train)\n",
    "print('train r2_score gb:'+str(r2_score(y_pred,y_train)))\n",
    "print('train MAE gb:'+str(mean_absolute_error(y_pred,y_train)))"
   ]
  },
  {
   "cell_type": "markdown",
   "metadata": {},
   "source": [
    "# 4.10 XGBoost Model<a id='4.10_XGBoost_Model'></a>"
   ]
  },
  {
   "cell_type": "code",
   "execution_count": 64,
   "metadata": {},
   "outputs": [
    {
     "name": "stdout",
     "output_type": "stream",
     "text": [
      "[10:26:04] WARNING: C:/Users/Administrator/workspace/xgboost-win64_release_1.5.1/src/learner.cc:576: \n",
      "Parameters: { \"early_stopping_rounds\" } might not be used.\n",
      "\n",
      "  This could be a false alarm, with some parameters getting used by language bindings but\n",
      "  then being mistakenly passed down to XGBoost core, or some parameter actually being used\n",
      "  but getting flagged wrongly here. Please open an issue if you find any such cases.\n",
      "\n",
      "\n"
     ]
    },
    {
     "data": {
      "text/plain": [
       "XGBRegressor(base_score=0.5, booster='gbtree', colsample_bylevel=1,\n",
       "             colsample_bynode=1, colsample_bytree=1, early_stopping_rounds=10,\n",
       "             enable_categorical=False, gamma=0, gpu_id=-1, importance_type=None,\n",
       "             interaction_constraints='', learning_rate=0.1, max_delta_step=0,\n",
       "             max_depth=5, min_child_weight=1, missing=nan,\n",
       "             monotone_constraints='()', n_estimators=150, n_jobs=8,\n",
       "             num_parallel_tree=1, predictor='auto', random_state=0, reg_alpha=0,\n",
       "             reg_lambda=1, scale_pos_weight=1, subsample=1, tree_method='exact',\n",
       "             validate_parameters=1, verbosity=None)"
      ]
     },
     "execution_count": 64,
     "metadata": {},
     "output_type": "execute_result"
    }
   ],
   "source": [
    "xgb = XGBRegressor(\n",
    "    n_estimators=150, \n",
    "    learning_rate=0.1, \n",
    "    max_depth=5,\n",
    "    early_stopping_rounds=10,\n",
    "#     min_child_weight=3,\n",
    "#     reg_alpha=.05,\n",
    "#     reg_lambda=.05\n",
    "#     num_parallel_tree=10\n",
    ")\n",
    "xgb.fit(X_train, y_train)"
   ]
  },
  {
   "cell_type": "code",
   "execution_count": 65,
   "metadata": {},
   "outputs": [
    {
     "name": "stdout",
     "output_type": "stream",
     "text": [
      "train MSE xgb:273380.1325604451\n",
      "train r2_score xgb:0.5594026766488702\n",
      "train MAE xgb:143316.47576269045\n"
     ]
    }
   ],
   "source": [
    "print('train MSE xgb:'+str(mean_squared_error(y_train, xgb.predict(X_train), squared=False)))\n",
    "y_pred=xgb.predict(X_train)\n",
    "print('train r2_score xgb:'+str(r2_score(y_pred,y_train)))\n",
    "print('train MAE xgb:'+str(mean_absolute_error(y_pred,y_train)))"
   ]
  },
  {
   "cell_type": "code",
   "execution_count": 125,
   "metadata": {},
   "outputs": [],
   "source": [
    "pipe = make_pipeline( \n",
    "    XGBRegressor()\n",
    ")"
   ]
  },
  {
   "cell_type": "code",
   "execution_count": 126,
   "metadata": {
    "scrolled": true
   },
   "outputs": [
    {
     "data": {
      "text/plain": [
       "dict_keys(['memory', 'steps', 'verbose', 'xgbregressor', 'xgbregressor__objective', 'xgbregressor__base_score', 'xgbregressor__booster', 'xgbregressor__colsample_bylevel', 'xgbregressor__colsample_bynode', 'xgbregressor__colsample_bytree', 'xgbregressor__enable_categorical', 'xgbregressor__gamma', 'xgbregressor__gpu_id', 'xgbregressor__importance_type', 'xgbregressor__interaction_constraints', 'xgbregressor__learning_rate', 'xgbregressor__max_delta_step', 'xgbregressor__max_depth', 'xgbregressor__min_child_weight', 'xgbregressor__missing', 'xgbregressor__monotone_constraints', 'xgbregressor__n_estimators', 'xgbregressor__n_jobs', 'xgbregressor__num_parallel_tree', 'xgbregressor__predictor', 'xgbregressor__random_state', 'xgbregressor__reg_alpha', 'xgbregressor__reg_lambda', 'xgbregressor__scale_pos_weight', 'xgbregressor__subsample', 'xgbregressor__tree_method', 'xgbregressor__validate_parameters', 'xgbregressor__verbosity'])"
      ]
     },
     "execution_count": 126,
     "metadata": {},
     "output_type": "execute_result"
    }
   ],
   "source": [
    "pipe.get_params().keys()"
   ]
  },
  {
   "cell_type": "markdown",
   "metadata": {},
   "source": [
    "## 4.10.1 Hyperparameter search using GridSearchCV<a id='4.10.1_Hyperparameter_search_using_GridSearchCV'></a>"
   ]
  },
  {
   "cell_type": "code",
   "execution_count": 127,
   "metadata": {},
   "outputs": [],
   "source": [
    "param_grid={\n",
    "    'xgbregressor__n_estimators':[150,250,500],\n",
    "#     'xgbregressor__learning_rate':[.01,.1],\n",
    "    'xgbregressor__max_depth':[5,8,10],\n",
    "#     'xgbregressor__min_child_weight':[1,2,3,4,5,6]\n",
    "}"
   ]
  },
  {
   "cell_type": "code",
   "execution_count": 128,
   "metadata": {
    "scrolled": true
   },
   "outputs": [
    {
     "data": {
      "text/plain": [
       "GridSearchCV(cv=5,\n",
       "             estimator=Pipeline(steps=[('xgbregressor',\n",
       "                                        XGBRegressor(base_score=None,\n",
       "                                                     booster=None,\n",
       "                                                     colsample_bylevel=None,\n",
       "                                                     colsample_bynode=None,\n",
       "                                                     colsample_bytree=None,\n",
       "                                                     enable_categorical=False,\n",
       "                                                     gamma=None, gpu_id=None,\n",
       "                                                     importance_type=None,\n",
       "                                                     interaction_constraints=None,\n",
       "                                                     learning_rate=None,\n",
       "                                                     max_delta_step=None,\n",
       "                                                     max_depth=None,\n",
       "                                                     min_child_weight=None,\n",
       "                                                     missing=nan,\n",
       "                                                     monotone_constraints=None,\n",
       "                                                     n_estimators=100,\n",
       "                                                     n_jobs=None,\n",
       "                                                     num_parallel_tree=None,\n",
       "                                                     predictor=None,\n",
       "                                                     random_state=None,\n",
       "                                                     reg_alpha=None,\n",
       "                                                     reg_lambda=None,\n",
       "                                                     scale_pos_weight=None,\n",
       "                                                     subsample=None,\n",
       "                                                     tree_method=None,\n",
       "                                                     validate_parameters=None,\n",
       "                                                     verbosity=None))]),\n",
       "             n_jobs=-1,\n",
       "             param_grid={'xgbregressor__max_depth': [5, 8, 10],\n",
       "                         'xgbregressor__n_estimators': [150, 250, 500]})"
      ]
     },
     "execution_count": 128,
     "metadata": {},
     "output_type": "execute_result"
    }
   ],
   "source": [
    "xgb_grid_cv = GridSearchCV(pipe, param_grid=param_grid, cv=5, n_jobs=-1)\n",
    "xgb_grid_cv.fit(X_train, y_train)"
   ]
  },
  {
   "cell_type": "code",
   "execution_count": 129,
   "metadata": {},
   "outputs": [
    {
     "data": {
      "text/plain": [
       "{'xgbregressor__max_depth': 8, 'xgbregressor__n_estimators': 500}"
      ]
     },
     "execution_count": 129,
     "metadata": {},
     "output_type": "execute_result"
    }
   ],
   "source": [
    "xgb_grid_cv.best_params_"
   ]
  },
  {
   "cell_type": "code",
   "execution_count": 109,
   "metadata": {},
   "outputs": [],
   "source": [
    "score_mean = xgb_grid_cv.cv_results_['mean_test_score']\n",
    "score_std = xgb_grid_cv.cv_results_['std_test_score']\n",
    "# cv_k = [k for k in gb_grid_cv.cv_results_['param_selectkbest__k']]"
   ]
  },
  {
   "cell_type": "code",
   "execution_count": 66,
   "metadata": {},
   "outputs": [
    {
     "data": {
      "text/plain": [
       "XGBRegressor(base_score=0.5, booster='gbtree', colsample_bylevel=1,\n",
       "             colsample_bynode=1, colsample_bytree=1, enable_categorical=False,\n",
       "             gamma=0, gpu_id=-1, importance_type=None,\n",
       "             interaction_constraints='', learning_rate=0.300000012,\n",
       "             max_delta_step=0, max_depth=8, min_child_weight=1, missing=nan,\n",
       "             monotone_constraints='()', n_estimators=500, n_jobs=8,\n",
       "             num_parallel_tree=1, predictor='auto', random_state=0, reg_alpha=0,\n",
       "             reg_lambda=1, scale_pos_weight=1, subsample=1, tree_method='exact',\n",
       "             validate_parameters=1, verbosity=None)"
      ]
     },
     "execution_count": 66,
     "metadata": {},
     "output_type": "execute_result"
    }
   ],
   "source": [
    "xgb = XGBRegressor(\n",
    "    n_estimators=500, \n",
    "    max_depth=8,\n",
    "#     min_child_weight=3,\n",
    "#     reg_alpha=.05,\n",
    "#     reg_lambda=.05\n",
    "#     num_parallel_tree=10\n",
    ")\n",
    "xgb.fit(X_train, y_train)"
   ]
  },
  {
   "cell_type": "code",
   "execution_count": 67,
   "metadata": {},
   "outputs": [
    {
     "name": "stdout",
     "output_type": "stream",
     "text": [
      "train MSE xgb:162607.92552726937\n",
      "train r2_score xgb:0.8812811636854065\n",
      "train MAE xgb:91167.46937656231\n"
     ]
    }
   ],
   "source": [
    "print('train MSE xgb:'+str(mean_squared_error(y_train, xgb.predict(X_train), squared=False)))\n",
    "y_pred=xgb.predict(X_train)\n",
    "print('train r2_score xgb:'+str(r2_score(y_pred,y_train)))\n",
    "print('train MAE xgb:'+str(mean_absolute_error(y_pred,y_train)))"
   ]
  },
  {
   "cell_type": "markdown",
   "metadata": {},
   "source": [
    "# 4.11 Final Model Selection<a id='4.11_Final_Model_Selection'></a>"
   ]
  },
  {
   "cell_type": "markdown",
   "metadata": {},
   "source": [
    "Reduced max depth hyperparameter from 8 to 5 to prevent overfitting. This resulted in a lower R squared on the train dataset but performed better on the test dataset so decided to proceed with the XGBoost version2 model below."
   ]
  },
  {
   "cell_type": "code",
   "execution_count": 72,
   "metadata": {},
   "outputs": [
    {
     "data": {
      "text/plain": [
       "XGBRegressor(base_score=0.5, booster='gbtree', colsample_bylevel=1,\n",
       "             colsample_bynode=1, colsample_bytree=1, enable_categorical=False,\n",
       "             gamma=0, gpu_id=-1, importance_type=None,\n",
       "             interaction_constraints='', learning_rate=0.300000012,\n",
       "             max_delta_step=0, max_depth=5, min_child_weight=1, missing=nan,\n",
       "             monotone_constraints='()', n_estimators=500, n_jobs=8,\n",
       "             num_parallel_tree=1, predictor='auto', random_state=0, reg_alpha=0,\n",
       "             reg_lambda=1, scale_pos_weight=1, subsample=1, tree_method='exact',\n",
       "             validate_parameters=1, verbosity=None)"
      ]
     },
     "execution_count": 72,
     "metadata": {},
     "output_type": "execute_result"
    }
   ],
   "source": [
    "xgbv2 = XGBRegressor(\n",
    "    n_estimators=500, \n",
    "    max_depth=5,\n",
    "#     min_child_weight=3,\n",
    "#     reg_alpha=.05,\n",
    "#     reg_lambda=.05\n",
    "#     num_parallel_tree=10\n",
    ")\n",
    "xgbv2.fit(X_train, y_train)"
   ]
  },
  {
   "cell_type": "code",
   "execution_count": 73,
   "metadata": {},
   "outputs": [
    {
     "name": "stdout",
     "output_type": "stream",
     "text": [
      "train MSE xgbv2:212837.7911367913\n",
      "train r2_score xgbv2:0.7795234054129901\n",
      "train MAE xgbv2:113642.19360562338\n"
     ]
    }
   ],
   "source": [
    "print('train MSE xgbv2:'+str(mean_squared_error(y_train, xgbv2.predict(X_train), squared=False)))\n",
    "y_pred=xgbv2.predict(X_train)\n",
    "print('train r2_score xgbv2:'+str(r2_score(y_pred,y_train)))\n",
    "print('train MAE xgbv2:'+str(mean_absolute_error(y_pred,y_train)))"
   ]
  },
  {
   "cell_type": "code",
   "execution_count": 74,
   "metadata": {},
   "outputs": [
    {
     "data": {
      "text/html": [
       "<div>\n",
       "<style scoped>\n",
       "    .dataframe tbody tr th:only-of-type {\n",
       "        vertical-align: middle;\n",
       "    }\n",
       "\n",
       "    .dataframe tbody tr th {\n",
       "        vertical-align: top;\n",
       "    }\n",
       "\n",
       "    .dataframe thead th {\n",
       "        text-align: right;\n",
       "    }\n",
       "</style>\n",
       "<table border=\"1\" class=\"dataframe\">\n",
       "  <thead>\n",
       "    <tr style=\"text-align: right;\">\n",
       "      <th></th>\n",
       "      <th>coef</th>\n",
       "    </tr>\n",
       "  </thead>\n",
       "  <tbody>\n",
       "    <tr>\n",
       "      <th>bath</th>\n",
       "      <td>0.408532</td>\n",
       "    </tr>\n",
       "    <tr>\n",
       "      <th>zip_code</th>\n",
       "      <td>0.200044</td>\n",
       "    </tr>\n",
       "    <tr>\n",
       "      <th>state</th>\n",
       "      <td>0.159035</td>\n",
       "    </tr>\n",
       "    <tr>\n",
       "      <th>house_size</th>\n",
       "      <td>0.147308</td>\n",
       "    </tr>\n",
       "    <tr>\n",
       "      <th>city</th>\n",
       "      <td>0.045458</td>\n",
       "    </tr>\n",
       "    <tr>\n",
       "      <th>bed</th>\n",
       "      <td>0.039623</td>\n",
       "    </tr>\n",
       "  </tbody>\n",
       "</table>\n",
       "</div>"
      ],
      "text/plain": [
       "                coef\n",
       "bath        0.408532\n",
       "zip_code    0.200044\n",
       "state       0.159035\n",
       "house_size  0.147308\n",
       "city        0.045458\n",
       "bed         0.039623"
      ]
     },
     "execution_count": 74,
     "metadata": {},
     "output_type": "execute_result"
    }
   ],
   "source": [
    "pd.DataFrame({\"coef\":xgbv2.feature_importances_},index=X_train.columns).sort_values(by='coef',ascending=False)"
   ]
  },
  {
   "cell_type": "markdown",
   "metadata": {},
   "source": [
    "# 4.12 Save Best Model and Train/Test Files<a id='4.12_Save_Best_Model_and_Train/Test_Files'></a>"
   ]
  },
  {
   "cell_type": "code",
   "execution_count": 68,
   "metadata": {},
   "outputs": [],
   "source": [
    "X_train.to_csv('../data/processed/X_train.csv',index=False)\n",
    "y_train.to_csv('../data/processed/y_train.csv',index=False)"
   ]
  },
  {
   "cell_type": "code",
   "execution_count": 69,
   "metadata": {},
   "outputs": [],
   "source": [
    "X_test.to_csv('../data/processed/X_test.csv',index=False)"
   ]
  },
  {
   "cell_type": "code",
   "execution_count": 70,
   "metadata": {},
   "outputs": [],
   "source": [
    "y_test.to_csv('../data/processed/y_test.csv',index=False)"
   ]
  },
  {
   "cell_type": "code",
   "execution_count": 71,
   "metadata": {},
   "outputs": [],
   "source": [
    "pickle.dump(xgb,open('../models/xgb','wb'))"
   ]
  },
  {
   "cell_type": "code",
   "execution_count": 75,
   "metadata": {},
   "outputs": [],
   "source": [
    "pickle.dump(xgbv2,open('../models/xgbv2','wb'))"
   ]
  }
 ],
 "metadata": {
  "kernelspec": {
   "display_name": "Python 3",
   "language": "python",
   "name": "python3"
  },
  "language_info": {
   "codemirror_mode": {
    "name": "ipython",
    "version": 3
   },
   "file_extension": ".py",
   "mimetype": "text/x-python",
   "name": "python",
   "nbconvert_exporter": "python",
   "pygments_lexer": "ipython3",
   "version": "3.6.5"
  }
 },
 "nbformat": 4,
 "nbformat_minor": 2
}
